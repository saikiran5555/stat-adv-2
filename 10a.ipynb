{
 "cells": [
  {
   "cell_type": "markdown",
   "id": "f9a7161c",
   "metadata": {},
   "source": [
    "The Central Limit Theorem (CLT) is a fundamental theorem in probability theory and statistics that describes the distribution of sample means. It states that, under certain conditions, the sum (or average) of a sufficiently large number of independent random variables, each with a finite mean and variance, will be approximately normally distributed, regardless of the shape of the original distribution. The assumptions underlying the Central Limit Theorem are crucial for its application and are as follows:\n",
    "\n",
    "Independence: The random variables must be independent. This means that the occurrence of one event does not affect the probability of occurrence of another event. In practical terms, this often means that the data points are collected randomly and that there is no inherent correlation among them.\n",
    "\n",
    "Identical Distribution: The random variables should be identically distributed. This doesn’t mean that they must have the same values, but rather that they share the same probability distribution, with the same mean and variance. This assumption can be relaxed in some versions of the theorem.\n",
    "\n",
    "Finite Mean and Variance: Each of the random variables must have a finite mean (μ) and variance (σ²). These parameters need to be real numbers, ensuring that the distribution has a defined center (mean) and a quantifiable spread (variance).\n",
    "\n",
    "Sufficiently Large Sample Size: The sample size should be sufficiently large. While the Central Limit Theorem does not specify exactly how large this should be, a common rule of thumb is that a sample size of 30 or more is generally considered sufficient. For distributions that are not severely skewed or kurtotic, smaller samples might be adequate.\n",
    "\n",
    "Random Sampling: The data should be collected through a process of random sampling. This ensures that each sample represents the population fairly and contributes to the independence of the variables.\n",
    "\n",
    "It's important to note that the Central Limit Theorem applies to the distribution of the sample means, not to the distribution of individual data points. Also, while normality of the distribution of sample means gets better with larger sample sizes, the original distribution of the individual data points does not change. The theorem is particularly powerful because it applies to a wide range of probability distributions, including those that are not normal.\n",
    "\n",
    "\n",
    "\n",
    "\n",
    "\n"
   ]
  }
 ],
 "metadata": {
  "kernelspec": {
   "display_name": "Python 3 (ipykernel)",
   "language": "python",
   "name": "python3"
  },
  "language_info": {
   "codemirror_mode": {
    "name": "ipython",
    "version": 3
   },
   "file_extension": ".py",
   "mimetype": "text/x-python",
   "name": "python",
   "nbconvert_exporter": "python",
   "pygments_lexer": "ipython3",
   "version": "3.10.9"
  }
 },
 "nbformat": 4,
 "nbformat_minor": 5
}
