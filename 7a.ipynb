{
 "cells": [
  {
   "cell_type": "markdown",
   "id": "42bc73bd",
   "metadata": {},
   "source": [
    "Uniform Distribution\n",
    "The uniform distribution, often referred to as a rectangular distribution, is a probability distribution where all outcomes are equally likely. This distribution is characterized by two parameters, the minimum value \n",
    "�\n",
    "a and the maximum value \n",
    "�\n",
    "b, and the probability for any given range within these bounds is proportional to the length of the range. Uniform distributions can be either discrete or continuous.\n",
    "\n",
    "Continuous Uniform Distribution\n",
    "In a continuous uniform distribution, every value between the minimum value \n",
    "�\n",
    "a and the maximum value \n",
    "�\n",
    "b is equally likely to occur. The probability density function (PDF) is a constant between \n",
    "�\n",
    "a and \n",
    "�\n",
    "b and zero outside this range."
   ]
  }
 ],
 "metadata": {
  "kernelspec": {
   "display_name": "Python 3 (ipykernel)",
   "language": "python",
   "name": "python3"
  },
  "language_info": {
   "codemirror_mode": {
    "name": "ipython",
    "version": 3
   },
   "file_extension": ".py",
   "mimetype": "text/x-python",
   "name": "python",
   "nbconvert_exporter": "python",
   "pygments_lexer": "ipython3",
   "version": "3.10.9"
  }
 },
 "nbformat": 4,
 "nbformat_minor": 5
}
